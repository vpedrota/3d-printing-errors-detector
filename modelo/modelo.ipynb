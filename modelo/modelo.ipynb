{
 "cells": [
  {
   "cell_type": "code",
   "execution_count": 10,
   "id": "a4e47232-4ecf-4a3d-bbd0-18a0a23c8384",
   "metadata": {
    "tags": []
   },
   "outputs": [],
   "source": [
    "from tensorflow.keras.preprocessing.image import ImageDataGenerator\n",
    "from tensorflow.keras.applications import VGG16\n",
    "from tensorflow.keras import layers\n",
    "from tensorflow.keras.models import Model\n",
    "from tensorflow.keras.optimizers import Adam\n",
    "import tensorflow as tf"
   ]
  },
  {
   "cell_type": "code",
   "execution_count": 15,
   "id": "94560bba-7e3e-4dd1-af97-fa81ec8e646c",
   "metadata": {},
   "outputs": [
    {
     "name": "stdout",
     "output_type": "stream",
     "text": [
      "Found 1117 images belonging to 2 classes.\n",
      "Found 279 images belonging to 2 classes.\n"
     ]
    }
   ],
   "source": [
    "# Caminho para o diretório que contém as subpastas de classes\n",
    "diretorio = 'imagens'\n",
    "\n",
    "# Inicializa o gerador de dados com a opção de rescale e divisão de validação\n",
    "datagen = ImageDataGenerator(\n",
    "    rescale=1./255,\n",
    "    validation_split=0.2,  # reserva 20% das imagens para validação\n",
    "    rotation_range=20,\n",
    "    width_shift_range=0.2,\n",
    "    height_shift_range=0.2,\n",
    "    shear_range=0.2,\n",
    "    zoom_range=0.2,\n",
    "    horizontal_flip=True,\n",
    "    fill_mode='nearest'\n",
    ")\n",
    "\n",
    "# Cria o gerador de treino\n",
    "train_generator = datagen.flow_from_directory(\n",
    "    diretorio,\n",
    "    target_size=(224, 224),  # redimensiona as imagens para 224x224\n",
    "    batch_size=1,\n",
    "    class_mode='binary',\n",
    "    subset='training'  # define este conjunto como sendo de treinamento\n",
    ")\n",
    "\n",
    "# Cria o gerador de validação\n",
    "validation_generator = datagen.flow_from_directory(\n",
    "    diretorio,\n",
    "    target_size=(224, 224),  # redimensiona as imagens para 224x224\n",
    "    batch_size=1,\n",
    "    class_mode='binary',\n",
    "    subset='validation'  # define este conjunto como sendo de validação\n",
    ")"
   ]
  },
  {
   "cell_type": "code",
   "execution_count": 16,
   "id": "59f3f01b-7160-43e5-97f9-ae4b2ced98c0",
   "metadata": {},
   "outputs": [
    {
     "name": "stdout",
     "output_type": "stream",
     "text": [
      "Classes no conjunto de treinamento: {'corretas': 0, 'erradas': 1}\n",
      "Classes no conjunto de validação: {'corretas': 0, 'erradas': 1}\n"
     ]
    }
   ],
   "source": [
    "classes_train = train_generator.class_indices\n",
    "classes_validation = validation_generator.class_indices\n",
    "\n",
    "print(\"Classes no conjunto de treinamento:\", classes_train)\n",
    "print(\"Classes no conjunto de validação:\", classes_validation)"
   ]
  },
  {
   "cell_type": "code",
   "execution_count": 17,
   "id": "f8120f48-8e06-41f8-a729-6cc12bc72d0d",
   "metadata": {},
   "outputs": [
    {
     "name": "stdout",
     "output_type": "stream",
     "text": [
      "Quantidade de fotos por classe no conjunto de treinamento: {'corretas': 1025, 'erradas': 92}\n",
      "Quantidade de fotos por classe no conjunto de validação: {'corretas': 256, 'erradas': 23}\n"
     ]
    }
   ],
   "source": [
    "# Contagem de imagens por classe no conjunto de treinamento\n",
    "class_indices_train = train_generator.class_indices\n",
    "labels_train = train_generator.labels\n",
    "count_images_per_class_train = {class_name: labels_train.tolist().count(class_idx) for class_name, class_idx in class_indices_train.items()}\n",
    "\n",
    "print(\"Quantidade de fotos por classe no conjunto de treinamento:\", count_images_per_class_train)\n",
    "\n",
    "# Contagem de imagens por classe no conjunto de validação\n",
    "class_indices_validation = validation_generator.class_indices\n",
    "labels_validation = validation_generator.labels\n",
    "count_images_per_class_validation = {class_name: labels_validation.tolist().count(class_idx) for class_name, class_idx in class_indices_validation.items()}\n",
    "\n",
    "print(\"Quantidade de fotos por classe no conjunto de validação:\", count_images_per_class_validation)\n"
   ]
  },
  {
   "cell_type": "code",
   "execution_count": 18,
   "id": "b56f754e-d49d-4104-96c9-ee987b5a6735",
   "metadata": {
    "scrolled": true
   },
   "outputs": [
    {
     "name": "stdout",
     "output_type": "stream",
     "text": [
      "Downloading data from https://storage.googleapis.com/tensorflow/keras-applications/vgg16/vgg16_weights_tf_dim_ordering_tf_kernels_notop.h5\n",
      "58889256/58889256 [==============================] - 6s 0us/step\n"
     ]
    },
    {
     "ename": "ImportError",
     "evalue": "`load_weights` requires h5py package when loading weights from HDF5. Try installing h5py.",
     "output_type": "error",
     "traceback": [
      "\u001b[1;31m---------------------------------------------------------------------------\u001b[0m",
      "\u001b[1;31mImportError\u001b[0m                               Traceback (most recent call last)",
      "Cell \u001b[1;32mIn[18], line 2\u001b[0m\n\u001b[0;32m      1\u001b[0m \u001b[38;5;66;03m# Carregar a VGG16 como base do modelo, sem incluir as camadas superiores\u001b[39;00m\n\u001b[1;32m----> 2\u001b[0m base_model \u001b[38;5;241m=\u001b[39m \u001b[43mVGG16\u001b[49m\u001b[43m(\u001b[49m\u001b[43mweights\u001b[49m\u001b[38;5;241;43m=\u001b[39;49m\u001b[38;5;124;43m'\u001b[39;49m\u001b[38;5;124;43mimagenet\u001b[39;49m\u001b[38;5;124;43m'\u001b[39;49m\u001b[43m,\u001b[49m\u001b[43m \u001b[49m\u001b[43minclude_top\u001b[49m\u001b[38;5;241;43m=\u001b[39;49m\u001b[38;5;28;43;01mFalse\u001b[39;49;00m\u001b[43m,\u001b[49m\u001b[43m \u001b[49m\u001b[43minput_shape\u001b[49m\u001b[38;5;241;43m=\u001b[39;49m\u001b[43m(\u001b[49m\u001b[38;5;241;43m224\u001b[39;49m\u001b[43m,\u001b[49m\u001b[43m \u001b[49m\u001b[38;5;241;43m224\u001b[39;49m\u001b[43m,\u001b[49m\u001b[43m \u001b[49m\u001b[38;5;241;43m3\u001b[39;49m\u001b[43m)\u001b[49m\u001b[43m)\u001b[49m\n\u001b[0;32m      4\u001b[0m \u001b[38;5;66;03m# Congelar as camadas do modelo base para não serem treinadas\u001b[39;00m\n\u001b[0;32m      5\u001b[0m \u001b[38;5;28;01mfor\u001b[39;00m layer \u001b[38;5;129;01min\u001b[39;00m base_model\u001b[38;5;241m.\u001b[39mlayers:\n",
      "File \u001b[1;32mC:\\ProgramData\\anaconda3\\envs\\tensorflow\\lib\\site-packages\\keras\\applications\\vgg16.py:248\u001b[0m, in \u001b[0;36mVGG16\u001b[1;34m(include_top, weights, input_tensor, input_shape, pooling, classes, classifier_activation)\u001b[0m\n\u001b[0;32m    241\u001b[0m     \u001b[38;5;28;01melse\u001b[39;00m:\n\u001b[0;32m    242\u001b[0m         weights_path \u001b[38;5;241m=\u001b[39m data_utils\u001b[38;5;241m.\u001b[39mget_file(\n\u001b[0;32m    243\u001b[0m             \u001b[38;5;124m\"\u001b[39m\u001b[38;5;124mvgg16_weights_tf_dim_ordering_tf_kernels_notop.h5\u001b[39m\u001b[38;5;124m\"\u001b[39m,\n\u001b[0;32m    244\u001b[0m             WEIGHTS_PATH_NO_TOP,\n\u001b[0;32m    245\u001b[0m             cache_subdir\u001b[38;5;241m=\u001b[39m\u001b[38;5;124m\"\u001b[39m\u001b[38;5;124mmodels\u001b[39m\u001b[38;5;124m\"\u001b[39m,\n\u001b[0;32m    246\u001b[0m             file_hash\u001b[38;5;241m=\u001b[39m\u001b[38;5;124m\"\u001b[39m\u001b[38;5;124m6d6bbae143d832006294945121d1f1fc\u001b[39m\u001b[38;5;124m\"\u001b[39m,\n\u001b[0;32m    247\u001b[0m         )\n\u001b[1;32m--> 248\u001b[0m     \u001b[43mmodel\u001b[49m\u001b[38;5;241;43m.\u001b[39;49m\u001b[43mload_weights\u001b[49m\u001b[43m(\u001b[49m\u001b[43mweights_path\u001b[49m\u001b[43m)\u001b[49m\n\u001b[0;32m    249\u001b[0m \u001b[38;5;28;01melif\u001b[39;00m weights \u001b[38;5;129;01mis\u001b[39;00m \u001b[38;5;129;01mnot\u001b[39;00m \u001b[38;5;28;01mNone\u001b[39;00m:\n\u001b[0;32m    250\u001b[0m     model\u001b[38;5;241m.\u001b[39mload_weights(weights)\n",
      "File \u001b[1;32mC:\\ProgramData\\anaconda3\\envs\\tensorflow\\lib\\site-packages\\keras\\utils\\traceback_utils.py:70\u001b[0m, in \u001b[0;36mfilter_traceback.<locals>.error_handler\u001b[1;34m(*args, **kwargs)\u001b[0m\n\u001b[0;32m     67\u001b[0m     filtered_tb \u001b[38;5;241m=\u001b[39m _process_traceback_frames(e\u001b[38;5;241m.\u001b[39m__traceback__)\n\u001b[0;32m     68\u001b[0m     \u001b[38;5;66;03m# To get the full stack trace, call:\u001b[39;00m\n\u001b[0;32m     69\u001b[0m     \u001b[38;5;66;03m# `tf.debugging.disable_traceback_filtering()`\u001b[39;00m\n\u001b[1;32m---> 70\u001b[0m     \u001b[38;5;28;01mraise\u001b[39;00m e\u001b[38;5;241m.\u001b[39mwith_traceback(filtered_tb) \u001b[38;5;28;01mfrom\u001b[39;00m \u001b[38;5;28;01mNone\u001b[39;00m\n\u001b[0;32m     71\u001b[0m \u001b[38;5;28;01mfinally\u001b[39;00m:\n\u001b[0;32m     72\u001b[0m     \u001b[38;5;28;01mdel\u001b[39;00m filtered_tb\n",
      "File \u001b[1;32mC:\\ProgramData\\anaconda3\\envs\\tensorflow\\lib\\site-packages\\keras\\engine\\training.py:2920\u001b[0m, in \u001b[0;36mModel.load_weights\u001b[1;34m(self, filepath, by_name, skip_mismatch, options)\u001b[0m\n\u001b[0;32m   2918\u001b[0m status \u001b[38;5;241m=\u001b[39m \u001b[38;5;28;01mNone\u001b[39;00m\n\u001b[0;32m   2919\u001b[0m \u001b[38;5;28;01mif\u001b[39;00m h5py \u001b[38;5;129;01mis\u001b[39;00m \u001b[38;5;28;01mNone\u001b[39;00m:\n\u001b[1;32m-> 2920\u001b[0m     \u001b[38;5;28;01mraise\u001b[39;00m \u001b[38;5;167;01mImportError\u001b[39;00m(\n\u001b[0;32m   2921\u001b[0m         \u001b[38;5;124m\"\u001b[39m\u001b[38;5;124m`load_weights` requires h5py package when loading weights \u001b[39m\u001b[38;5;124m\"\u001b[39m\n\u001b[0;32m   2922\u001b[0m         \u001b[38;5;124m\"\u001b[39m\u001b[38;5;124mfrom HDF5. Try installing h5py.\u001b[39m\u001b[38;5;124m\"\u001b[39m\n\u001b[0;32m   2923\u001b[0m     )\n\u001b[0;32m   2924\u001b[0m \u001b[38;5;28;01mif\u001b[39;00m \u001b[38;5;129;01mnot\u001b[39;00m \u001b[38;5;28mself\u001b[39m\u001b[38;5;241m.\u001b[39m_is_graph_network \u001b[38;5;129;01mand\u001b[39;00m \u001b[38;5;129;01mnot\u001b[39;00m \u001b[38;5;28mself\u001b[39m\u001b[38;5;241m.\u001b[39mbuilt:\n\u001b[0;32m   2925\u001b[0m     \u001b[38;5;28;01mraise\u001b[39;00m \u001b[38;5;167;01mValueError\u001b[39;00m(\n\u001b[0;32m   2926\u001b[0m         \u001b[38;5;124m\"\u001b[39m\u001b[38;5;124mUnable to load weights saved in HDF5 format into a \u001b[39m\u001b[38;5;124m\"\u001b[39m\n\u001b[0;32m   2927\u001b[0m         \u001b[38;5;124m\"\u001b[39m\u001b[38;5;124msubclassed Model which has not created its variables yet. \u001b[39m\u001b[38;5;124m\"\u001b[39m\n\u001b[0;32m   2928\u001b[0m         \u001b[38;5;124m\"\u001b[39m\u001b[38;5;124mCall the Model first, then load the weights.\u001b[39m\u001b[38;5;124m\"\u001b[39m\n\u001b[0;32m   2929\u001b[0m     )\n",
      "\u001b[1;31mImportError\u001b[0m: `load_weights` requires h5py package when loading weights from HDF5. Try installing h5py."
     ]
    }
   ],
   "source": [
    "# Carregar a VGG16 como base do modelo, sem incluir as camadas superiores\n",
    "base_model = VGG16(weights='imagenet', include_top=False, input_shape=(224, 224, 3))\n",
    "\n",
    "# Congelar as camadas do modelo base para não serem treinadas\n",
    "for layer in base_model.layers:\n",
    "    layer.trainable = False\n",
    "\n",
    "# Adicionar novas camadas no topo para a tarefa específica\n",
    "x = layers.Flatten()(base_model.output)\n",
    "x = layers.Dense(512, activation='relu')(x)\n",
    "x = layers.Dropout(0.5)(x)  # Use dropout para reduzir o overfitting\n",
    "\n",
    "predictions = layers.Dense(1, activation='sigmoid')(x)  # Use sigmoid para classificação binária\n",
    "\n",
    "# Compilar o modelo\n",
    "model = Model(inputs=base_model.input, outputs=predictions)\n",
    "# model.compile(optimizer=Adam(learning_rate=1e-4), loss='binary_crossentropy', metrics=['accuracy'])\n",
    "\n",
    "model.summary()"
   ]
  },
  {
   "cell_type": "code",
   "execution_count": 46,
   "id": "d192d615-1295-418b-a7ed-7b32c0d8b719",
   "metadata": {},
   "outputs": [
    {
     "name": "stdout",
     "output_type": "stream",
     "text": [
      "Epoch 1/10\n",
      "40/40 - 6s - 149ms/step - accuracy: 0.5750 - loss: 0.6344 - val_accuracy: 0.8500 - val_loss: 0.4712\n",
      "Epoch 2/10\n",
      "40/40 - 5s - 129ms/step - accuracy: 0.8750 - loss: 0.3848 - val_accuracy: 1.0000 - val_loss: 0.3774\n",
      "Epoch 3/10\n",
      "40/40 - 5s - 129ms/step - accuracy: 0.9000 - loss: 0.2914 - val_accuracy: 0.7000 - val_loss: 0.4032\n",
      "Epoch 4/10\n",
      "40/40 - 5s - 131ms/step - accuracy: 0.9250 - loss: 0.2399 - val_accuracy: 1.0000 - val_loss: 0.1845\n",
      "Epoch 5/10\n",
      "40/40 - 5s - 132ms/step - accuracy: 1.0000 - loss: 0.1279 - val_accuracy: 1.0000 - val_loss: 0.1824\n",
      "Epoch 6/10\n",
      "40/40 - 4s - 110ms/step - accuracy: 0.9750 - loss: 0.1568 - val_accuracy: 1.0000 - val_loss: 0.1144\n",
      "Epoch 7/10\n"
     ]
    },
    {
     "name": "stderr",
     "output_type": "stream",
     "text": [
      "2024-03-22 17:18:05.507937: W tensorflow/core/framework/local_rendezvous.cc:404] Local rendezvous is aborting with status: OUT_OF_RANGE: End of sequence\n",
      "\t [[{{node IteratorGetNext}}]]\n"
     ]
    },
    {
     "name": "stdout",
     "output_type": "stream",
     "text": [
      "40/40 - 5s - 133ms/step - accuracy: 1.0000 - loss: 0.0647 - val_accuracy: 1.0000 - val_loss: 0.0965\n",
      "Epoch 8/10\n",
      "40/40 - 5s - 133ms/step - accuracy: 1.0000 - loss: 0.0599 - val_accuracy: 1.0000 - val_loss: 0.0708\n",
      "Epoch 9/10\n",
      "40/40 - 5s - 133ms/step - accuracy: 1.0000 - loss: 0.0530 - val_accuracy: 1.0000 - val_loss: 0.0739\n",
      "Epoch 10/10\n",
      "40/40 - 5s - 133ms/step - accuracy: 1.0000 - loss: 0.0446 - val_accuracy: 1.0000 - val_loss: 0.0548\n"
     ]
    }
   ],
   "source": [
    "model.compile(optimizer=Adam(learning_rate=0.00001), loss='binary_crossentropy', metrics=['accuracy'])\n",
    "\n",
    "history = model.fit(\n",
    "    train_generator,\n",
    "    steps_per_epoch=40,  # Depende do tamanho do seu conjunto de dados\n",
    "    epochs=10,            # Ajuste conforme necessário\n",
    "    validation_data=validation_generator,\n",
    "    validation_steps=20,  # Depende do tamanho do seu conjunto de validação\n",
    "    verbose=2)"
   ]
  },
  {
   "cell_type": "code",
   "execution_count": null,
   "id": "6451eb0f-feb2-4745-8d2b-6e2ab6d68465",
   "metadata": {},
   "outputs": [],
   "source": []
  },
  {
   "cell_type": "code",
   "execution_count": null,
   "id": "4b4af7b4-549d-4a80-a1e9-ccef05211865",
   "metadata": {},
   "outputs": [],
   "source": []
  }
 ],
 "metadata": {
  "kernelspec": {
   "display_name": "Python 3 (ipykernel)",
   "language": "python",
   "name": "python3"
  },
  "language_info": {
   "codemirror_mode": {
    "name": "ipython",
    "version": 3
   },
   "file_extension": ".py",
   "mimetype": "text/x-python",
   "name": "python",
   "nbconvert_exporter": "python",
   "pygments_lexer": "ipython3",
   "version": "3.9.15"
  }
 },
 "nbformat": 4,
 "nbformat_minor": 5
}
